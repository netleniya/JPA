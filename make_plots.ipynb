{
 "cells": [
  {
   "cell_type": "code",
   "execution_count": 1,
   "id": "7bde9e49-f549-4b43-bceb-1bef11e81ba0",
   "metadata": {},
   "outputs": [],
   "source": [
    "from scipy.stats import norm\n",
    "import matplotlib.pyplot as plt\n",
    "import numpy as np\n",
    "import seaborn as sns"
   ]
  },
  {
   "cell_type": "code",
   "execution_count": 2,
   "id": "a13e200e-6bd3-42bf-9785-04cf26e253ad",
   "metadata": {},
   "outputs": [],
   "source": [
    "def fit_sns(source,bin_size=15):\n",
    "    fig, ax = plt.subplots(figsize=(10,8))\n",
    "    sns.distplot(source, bins=bin_size, kde=False, fit=norm)"
   ]
  },
  {
   "cell_type": "code",
   "execution_count": 3,
   "id": "bfc3cf04-b978-4dd0-9fe9-f6521fcb55af",
   "metadata": {},
   "outputs": [],
   "source": [
    "def fit_plt(source, bin_size=15):\n",
    "    fig, ax = plt.subplots(figsize=(10,6))\n",
    "    mu, std = norm.fit(source)\n",
    "    \n",
    "    plt.hist(source, bins=bin_size, density=True, histtype='bar', ec='black')\n",
    "    \n",
    "    xmin, xmax = plt.xlim()\n",
    "    x = np.linspace(xmin, xmax, 100)\n",
    "    p = norm.pdf(x, mu, std)\n",
    "    \n",
    "    plt.plot(x, p, 'r', lw=2)\n",
    "    plt.show()"
   ]
  },
  {
   "cell_type": "code",
   "execution_count": null,
   "id": "3658821f-4b34-470b-a380-7c701451f9a5",
   "metadata": {},
   "outputs": [],
   "source": []
  }
 ],
 "metadata": {
  "kernelspec": {
   "display_name": "Python 3",
   "language": "python",
   "name": "python3"
  },
  "language_info": {
   "codemirror_mode": {
    "name": "ipython",
    "version": 3
   },
   "file_extension": ".py",
   "mimetype": "text/x-python",
   "name": "python",
   "nbconvert_exporter": "python",
   "pygments_lexer": "ipython3",
   "version": "3.9.1"
  }
 },
 "nbformat": 4,
 "nbformat_minor": 5
}
