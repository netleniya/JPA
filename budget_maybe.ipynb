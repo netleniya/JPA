{
 "cells": [
  {
   "cell_type": "code",
   "execution_count": 1,
   "id": "32de6144-6903-4fd0-8612-2de62c93cd65",
   "metadata": {},
   "outputs": [],
   "source": [
    "import warnings\n",
    "from pandas.core.common import SettingWithCopyWarning\n",
    "warnings.simplefilter(action=\"ignore\", category=SettingWithCopyWarning)\n",
    "\n",
    "import matplotlib.pyplot as plt\n",
    "import numpy as np\n",
    "import pandas as pd\n",
    "import plotly.express as px\n",
    "import seaborn as sns\n",
    "\n",
    "%matplotlib inline"
   ]
  },
  {
   "cell_type": "code",
   "execution_count": 2,
   "id": "e25a6a16-d4a1-41eb-9463-662222f61a16",
   "metadata": {},
   "outputs": [],
   "source": [
    "df1 = pd.read_excel('part1.xlsx', sheet_name='Data',parse_dates=['day'])"
   ]
  },
  {
   "cell_type": "code",
   "execution_count": 3,
   "id": "85c5da09-40ed-438e-9399-376f4bf68a58",
   "metadata": {},
   "outputs": [],
   "source": [
    "counts = ['css_requests','font_requests', 'js_requests', 'image_requests', 'other_requests']"
   ]
  },
  {
   "cell_type": "code",
   "execution_count": 4,
   "id": "32988fe6-8ee6-4374-ba5c-369d69036538",
   "metadata": {},
   "outputs": [],
   "source": [
    "sizes = ['css_size','font_size','js_size','image_size','other_size']"
   ]
  },
  {
   "cell_type": "code",
   "execution_count": 5,
   "id": "50bd6f43-9e3c-4ece-8630-37cba399b46c",
   "metadata": {},
   "outputs": [],
   "source": [
    "requests = df1[counts]"
   ]
  },
  {
   "cell_type": "code",
   "execution_count": 6,
   "id": "906f6411-878b-4a2c-98da-5b9425966106",
   "metadata": {},
   "outputs": [
    {
     "data": {
      "text/html": [
       "<div>\n",
       "<style scoped>\n",
       "    .dataframe tbody tr th:only-of-type {\n",
       "        vertical-align: middle;\n",
       "    }\n",
       "\n",
       "    .dataframe tbody tr th {\n",
       "        vertical-align: top;\n",
       "    }\n",
       "\n",
       "    .dataframe thead th {\n",
       "        text-align: right;\n",
       "    }\n",
       "</style>\n",
       "<table border=\"1\" class=\"dataframe\">\n",
       "  <thead>\n",
       "    <tr style=\"text-align: right;\">\n",
       "      <th></th>\n",
       "      <th>css_requests</th>\n",
       "      <th>font_requests</th>\n",
       "      <th>js_requests</th>\n",
       "      <th>image_requests</th>\n",
       "      <th>other_requests</th>\n",
       "    </tr>\n",
       "  </thead>\n",
       "  <tbody>\n",
       "    <tr>\n",
       "      <th>0</th>\n",
       "      <td>11</td>\n",
       "      <td>4</td>\n",
       "      <td>134</td>\n",
       "      <td>90</td>\n",
       "      <td>25</td>\n",
       "    </tr>\n",
       "    <tr>\n",
       "      <th>1</th>\n",
       "      <td>8</td>\n",
       "      <td>4</td>\n",
       "      <td>85</td>\n",
       "      <td>56</td>\n",
       "      <td>23</td>\n",
       "    </tr>\n",
       "    <tr>\n",
       "      <th>2</th>\n",
       "      <td>11</td>\n",
       "      <td>4</td>\n",
       "      <td>135</td>\n",
       "      <td>91</td>\n",
       "      <td>25</td>\n",
       "    </tr>\n",
       "  </tbody>\n",
       "</table>\n",
       "</div>"
      ],
      "text/plain": [
       "   css_requests  font_requests  js_requests  image_requests  other_requests\n",
       "0            11              4          134              90              25\n",
       "1             8              4           85              56              23\n",
       "2            11              4          135              91              25"
      ]
     },
     "execution_count": 6,
     "metadata": {},
     "output_type": "execute_result"
    }
   ],
   "source": [
    "requests.head(3)"
   ]
  },
  {
   "cell_type": "code",
   "execution_count": 7,
   "id": "04866b76-76a2-496f-ba93-cc2f2f9be432",
   "metadata": {},
   "outputs": [],
   "source": [
    "space = df1[sizes]"
   ]
  },
  {
   "cell_type": "code",
   "execution_count": 8,
   "id": "c541403d-285a-49ad-a656-46718672bee1",
   "metadata": {},
   "outputs": [
    {
     "data": {
      "text/html": [
       "<div>\n",
       "<style scoped>\n",
       "    .dataframe tbody tr th:only-of-type {\n",
       "        vertical-align: middle;\n",
       "    }\n",
       "\n",
       "    .dataframe tbody tr th {\n",
       "        vertical-align: top;\n",
       "    }\n",
       "\n",
       "    .dataframe thead th {\n",
       "        text-align: right;\n",
       "    }\n",
       "</style>\n",
       "<table border=\"1\" class=\"dataframe\">\n",
       "  <thead>\n",
       "    <tr style=\"text-align: right;\">\n",
       "      <th></th>\n",
       "      <th>css_size</th>\n",
       "      <th>font_size</th>\n",
       "      <th>js_size</th>\n",
       "      <th>image_size</th>\n",
       "      <th>other_size</th>\n",
       "    </tr>\n",
       "  </thead>\n",
       "  <tbody>\n",
       "    <tr>\n",
       "      <th>0</th>\n",
       "      <td>73526</td>\n",
       "      <td>104727</td>\n",
       "      <td>1446029</td>\n",
       "      <td>82902</td>\n",
       "      <td>69</td>\n",
       "    </tr>\n",
       "    <tr>\n",
       "      <th>1</th>\n",
       "      <td>63189</td>\n",
       "      <td>104727</td>\n",
       "      <td>1010679</td>\n",
       "      <td>35254</td>\n",
       "      <td>8032</td>\n",
       "    </tr>\n",
       "    <tr>\n",
       "      <th>2</th>\n",
       "      <td>73193</td>\n",
       "      <td>104727</td>\n",
       "      <td>1447338</td>\n",
       "      <td>83104</td>\n",
       "      <td>69</td>\n",
       "    </tr>\n",
       "  </tbody>\n",
       "</table>\n",
       "</div>"
      ],
      "text/plain": [
       "   css_size  font_size  js_size  image_size  other_size\n",
       "0     73526     104727  1446029       82902          69\n",
       "1     63189     104727  1010679       35254        8032\n",
       "2     73193     104727  1447338       83104          69"
      ]
     },
     "execution_count": 8,
     "metadata": {},
     "output_type": "execute_result"
    }
   ],
   "source": [
    "space.head(3)"
   ]
  },
  {
   "cell_type": "code",
   "execution_count": 9,
   "id": "ebce5d74-80e1-457f-9cbf-b401623a44f4",
   "metadata": {},
   "outputs": [],
   "source": [
    "space_kb = space/1000"
   ]
  },
  {
   "cell_type": "code",
   "execution_count": 10,
   "id": "7e12fa5f-043d-4bef-a362-43a4b749fd97",
   "metadata": {},
   "outputs": [
    {
     "data": {
      "text/html": [
       "<div>\n",
       "<style scoped>\n",
       "    .dataframe tbody tr th:only-of-type {\n",
       "        vertical-align: middle;\n",
       "    }\n",
       "\n",
       "    .dataframe tbody tr th {\n",
       "        vertical-align: top;\n",
       "    }\n",
       "\n",
       "    .dataframe thead th {\n",
       "        text-align: right;\n",
       "    }\n",
       "</style>\n",
       "<table border=\"1\" class=\"dataframe\">\n",
       "  <thead>\n",
       "    <tr style=\"text-align: right;\">\n",
       "      <th></th>\n",
       "      <th>css_size</th>\n",
       "      <th>font_size</th>\n",
       "      <th>js_size</th>\n",
       "      <th>image_size</th>\n",
       "      <th>other_size</th>\n",
       "    </tr>\n",
       "  </thead>\n",
       "  <tbody>\n",
       "    <tr>\n",
       "      <th>0</th>\n",
       "      <td>73.526</td>\n",
       "      <td>104.727</td>\n",
       "      <td>1446.029</td>\n",
       "      <td>82.902</td>\n",
       "      <td>0.069</td>\n",
       "    </tr>\n",
       "    <tr>\n",
       "      <th>1</th>\n",
       "      <td>63.189</td>\n",
       "      <td>104.727</td>\n",
       "      <td>1010.679</td>\n",
       "      <td>35.254</td>\n",
       "      <td>8.032</td>\n",
       "    </tr>\n",
       "    <tr>\n",
       "      <th>2</th>\n",
       "      <td>73.193</td>\n",
       "      <td>104.727</td>\n",
       "      <td>1447.338</td>\n",
       "      <td>83.104</td>\n",
       "      <td>0.069</td>\n",
       "    </tr>\n",
       "  </tbody>\n",
       "</table>\n",
       "</div>"
      ],
      "text/plain": [
       "   css_size  font_size   js_size  image_size  other_size\n",
       "0    73.526    104.727  1446.029      82.902       0.069\n",
       "1    63.189    104.727  1010.679      35.254       8.032\n",
       "2    73.193    104.727  1447.338      83.104       0.069"
      ]
     },
     "execution_count": 10,
     "metadata": {},
     "output_type": "execute_result"
    }
   ],
   "source": [
    "space_kb.head(3)"
   ]
  },
  {
   "cell_type": "code",
   "execution_count": 11,
   "id": "60e4b7d1-323f-4c45-b036-4021c9e413e5",
   "metadata": {},
   "outputs": [
    {
     "data": {
      "text/plain": [
       "756"
      ]
     },
     "execution_count": 11,
     "metadata": {},
     "output_type": "execute_result"
    }
   ],
   "source": [
    "(requests.other_requests <= 150).sum()"
   ]
  },
  {
   "cell_type": "code",
   "execution_count": 12,
   "id": "4b9ae2e2-e7f1-48dc-a4eb-a83377c5113a",
   "metadata": {},
   "outputs": [
    {
     "data": {
      "text/plain": [
       "3"
      ]
     },
     "execution_count": 12,
     "metadata": {},
     "output_type": "execute_result"
    }
   ],
   "source": [
    "(requests.image_requests <= 30).sum()"
   ]
  },
  {
   "cell_type": "code",
   "execution_count": 13,
   "id": "ba9d436f-21e1-452d-82c4-52ca1806649a",
   "metadata": {},
   "outputs": [
    {
     "data": {
      "text/plain": [
       "238"
      ]
     },
     "execution_count": 13,
     "metadata": {},
     "output_type": "execute_result"
    }
   ],
   "source": [
    "((requests.image_requests > 30) & (requests.image_requests <= 40)).sum()"
   ]
  },
  {
   "cell_type": "code",
   "execution_count": 14,
   "id": "087ea736-a904-48f5-9546-2f489342cf06",
   "metadata": {},
   "outputs": [
    {
     "data": {
      "text/plain": [
       "515"
      ]
     },
     "execution_count": 14,
     "metadata": {},
     "output_type": "execute_result"
    }
   ],
   "source": [
    "(requests.image_requests > 40).sum()"
   ]
  },
  {
   "cell_type": "code",
   "execution_count": null,
   "id": "4ef30369-33f9-4eae-b8f4-09f1889c5a82",
   "metadata": {},
   "outputs": [],
   "source": []
  },
  {
   "cell_type": "code",
   "execution_count": 15,
   "id": "8b3c5340-a16c-4d72-ae55-e9c2911e0bae",
   "metadata": {},
   "outputs": [
    {
     "data": {
      "text/plain": [
       "0"
      ]
     },
     "execution_count": 15,
     "metadata": {},
     "output_type": "execute_result"
    }
   ],
   "source": [
    "(requests.js_requests <= 30).sum()"
   ]
  },
  {
   "cell_type": "code",
   "execution_count": 30,
   "id": "51f0711a-3b92-412f-a1b7-8e7e0c43c746",
   "metadata": {},
   "outputs": [
    {
     "data": {
      "text/plain": [
       "0"
      ]
     },
     "execution_count": 30,
     "metadata": {},
     "output_type": "execute_result"
    }
   ],
   "source": [
    "((requests.js_requests > 30) & (requests.js_requests <= 50)).sum()"
   ]
  },
  {
   "cell_type": "code",
   "execution_count": 33,
   "id": "2c890dea-0a65-4be9-ba27-4388a2d86a1a",
   "metadata": {},
   "outputs": [
    {
     "data": {
      "text/plain": [
       "85     111\n",
       "93      93\n",
       "92      54\n",
       "95      50\n",
       "135     46\n",
       "90      39\n",
       "137     38\n",
       "86      32\n",
       "91      32\n",
       "88      27\n",
       "141     26\n",
       "139     24\n",
       "136     21\n",
       "140     20\n",
       "144     18\n",
       "143     16\n",
       "94      16\n",
       "142     16\n",
       "146     13\n",
       "147     13\n",
       "96      10\n",
       "87      10\n",
       "138      9\n",
       "145      8\n",
       "148      5\n",
       "134      3\n",
       "149      3\n",
       "89       2\n",
       "97       1\n",
       "Name: js_requests, dtype: int64"
      ]
     },
     "execution_count": 33,
     "metadata": {},
     "output_type": "execute_result"
    }
   ],
   "source": [
    "requests.js_requests.value_counts()"
   ]
  },
  {
   "cell_type": "code",
   "execution_count": 31,
   "id": "4494ff3a-d045-4136-a093-d7c6ce35124d",
   "metadata": {},
   "outputs": [
    {
     "data": {
      "text/plain": [
       "504"
      ]
     },
     "execution_count": 31,
     "metadata": {},
     "output_type": "execute_result"
    }
   ],
   "source": [
    "(requests.image_requests > 50).sum()"
   ]
  },
  {
   "cell_type": "code",
   "execution_count": 18,
   "id": "e4fdaf59-4290-488c-82ff-b98ed21a0949",
   "metadata": {},
   "outputs": [
    {
     "data": {
      "text/plain": [
       "756"
      ]
     },
     "execution_count": 18,
     "metadata": {},
     "output_type": "execute_result"
    }
   ],
   "source": [
    "(requests.font_requests <= 6).sum()"
   ]
  },
  {
   "cell_type": "code",
   "execution_count": 19,
   "id": "43407c02-82a0-4fbe-b0ec-b8d61d5f7f62",
   "metadata": {},
   "outputs": [
    {
     "data": {
      "text/plain": [
       "496"
      ]
     },
     "execution_count": 19,
     "metadata": {},
     "output_type": "execute_result"
    }
   ],
   "source": [
    "(requests.css_requests <= 10).sum()"
   ]
  },
  {
   "cell_type": "code",
   "execution_count": 20,
   "id": "5671654e-7411-474b-80b4-7e98383cb075",
   "metadata": {},
   "outputs": [
    {
     "data": {
      "text/plain": [
       "260"
      ]
     },
     "execution_count": 20,
     "metadata": {},
     "output_type": "execute_result"
    }
   ],
   "source": [
    "((requests.css_requests > 10) & (requests.css_requests <= 20)).sum()"
   ]
  },
  {
   "cell_type": "code",
   "execution_count": 21,
   "id": "9eb8f924-a97d-4013-8113-d82573ffb6f9",
   "metadata": {},
   "outputs": [
    {
     "data": {
      "text/plain": [
       "0"
      ]
     },
     "execution_count": 21,
     "metadata": {},
     "output_type": "execute_result"
    }
   ],
   "source": [
    "(requests.css_requests > 20).sum()"
   ]
  },
  {
   "cell_type": "code",
   "execution_count": 22,
   "id": "5b199e08-f367-4aac-9454-2aa3f9a0661a",
   "metadata": {},
   "outputs": [
    {
     "data": {
      "text/html": [
       "<div>\n",
       "<style scoped>\n",
       "    .dataframe tbody tr th:only-of-type {\n",
       "        vertical-align: middle;\n",
       "    }\n",
       "\n",
       "    .dataframe tbody tr th {\n",
       "        vertical-align: top;\n",
       "    }\n",
       "\n",
       "    .dataframe thead th {\n",
       "        text-align: right;\n",
       "    }\n",
       "</style>\n",
       "<table border=\"1\" class=\"dataframe\">\n",
       "  <thead>\n",
       "    <tr style=\"text-align: right;\">\n",
       "      <th></th>\n",
       "      <th>css_size</th>\n",
       "      <th>font_size</th>\n",
       "      <th>js_size</th>\n",
       "      <th>image_size</th>\n",
       "      <th>other_size</th>\n",
       "    </tr>\n",
       "  </thead>\n",
       "  <tbody>\n",
       "    <tr>\n",
       "      <th>0</th>\n",
       "      <td>73.526</td>\n",
       "      <td>104.727</td>\n",
       "      <td>1446.029</td>\n",
       "      <td>82.902</td>\n",
       "      <td>0.069</td>\n",
       "    </tr>\n",
       "  </tbody>\n",
       "</table>\n",
       "</div>"
      ],
      "text/plain": [
       "   css_size  font_size   js_size  image_size  other_size\n",
       "0    73.526    104.727  1446.029      82.902       0.069"
      ]
     },
     "execution_count": 22,
     "metadata": {},
     "output_type": "execute_result"
    }
   ],
   "source": [
    "space_kb.head(1)"
   ]
  },
  {
   "cell_type": "code",
   "execution_count": 23,
   "id": "45eacee6-b866-48f7-8ab5-0f6c6a8acc06",
   "metadata": {},
   "outputs": [
    {
     "data": {
      "text/plain": [
       "756"
      ]
     },
     "execution_count": 23,
     "metadata": {},
     "output_type": "execute_result"
    }
   ],
   "source": [
    "((space_kb.css_size <= 150)).sum()"
   ]
  },
  {
   "cell_type": "code",
   "execution_count": 24,
   "id": "bc29064e-6aad-4f9c-ab4f-79bbe0ac20cf",
   "metadata": {},
   "outputs": [
    {
     "data": {
      "text/plain": [
       "756"
      ]
     },
     "execution_count": 24,
     "metadata": {},
     "output_type": "execute_result"
    }
   ],
   "source": [
    "(space_kb.font_size <= 150).sum()"
   ]
  },
  {
   "cell_type": "code",
   "execution_count": 25,
   "id": "b5fc82c2-bf85-4eaa-bd02-51f3bc14f13f",
   "metadata": {},
   "outputs": [
    {
     "data": {
      "text/plain": [
       "0"
      ]
     },
     "execution_count": 25,
     "metadata": {},
     "output_type": "execute_result"
    }
   ],
   "source": [
    "(space_kb.js_size <= 500).sum()"
   ]
  },
  {
   "cell_type": "code",
   "execution_count": 26,
   "id": "62054ef6-911d-4d8e-a631-a03833ba5eaa",
   "metadata": {},
   "outputs": [
    {
     "data": {
      "text/plain": [
       "0"
      ]
     },
     "execution_count": 26,
     "metadata": {},
     "output_type": "execute_result"
    }
   ],
   "source": [
    "((space_kb.js_size > 500) & (space_kb.js_size <= 1000)).sum()"
   ]
  },
  {
   "cell_type": "code",
   "execution_count": 27,
   "id": "9bf591fa-2098-4468-8b37-2134fc1d5aa2",
   "metadata": {},
   "outputs": [
    {
     "data": {
      "text/plain": [
       "756"
      ]
     },
     "execution_count": 27,
     "metadata": {},
     "output_type": "execute_result"
    }
   ],
   "source": [
    "(space_kb.js_size > 1000).sum()"
   ]
  },
  {
   "cell_type": "code",
   "execution_count": 28,
   "id": "bc08129e-73b3-4820-9dd2-975246d6afe0",
   "metadata": {},
   "outputs": [
    {
     "data": {
      "text/plain": [
       "756"
      ]
     },
     "execution_count": 28,
     "metadata": {},
     "output_type": "execute_result"
    }
   ],
   "source": [
    "(space_kb.image_size <= 800).sum()"
   ]
  },
  {
   "cell_type": "code",
   "execution_count": 29,
   "id": "fd2bfb31-c3d7-400c-9610-c5c31097af0a",
   "metadata": {},
   "outputs": [
    {
     "data": {
      "text/plain": [
       "756"
      ]
     },
     "execution_count": 29,
     "metadata": {},
     "output_type": "execute_result"
    }
   ],
   "source": [
    "(space_kb.other_size <= 2500).sum()"
   ]
  },
  {
   "cell_type": "code",
   "execution_count": null,
   "id": "c749e302-b168-40f1-91f4-e00457715d1f",
   "metadata": {},
   "outputs": [],
   "source": []
  }
 ],
 "metadata": {
  "kernelspec": {
   "display_name": "Python 3",
   "language": "python",
   "name": "python3"
  },
  "language_info": {
   "codemirror_mode": {
    "name": "ipython",
    "version": 3
   },
   "file_extension": ".py",
   "mimetype": "text/x-python",
   "name": "python",
   "nbconvert_exporter": "python",
   "pygments_lexer": "ipython3",
   "version": "3.9.1"
  }
 },
 "nbformat": 4,
 "nbformat_minor": 5
}
